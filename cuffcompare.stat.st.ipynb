{
 "cells": [
  {
   "cell_type": "code",
   "execution_count": 2,
   "metadata": {
    "collapsed": true
   },
   "outputs": [],
   "source": [
    "%matplotlib inline\n",
    "import numpy as np\n",
    "import pandas as pd\n",
    "import matplotlib.pyplot as plt\n",
    "import sys\n",
    "sys.path.append('/ref/analysis/pipelines/')\n",
    "import kang\n",
    "from matplotlib_venn import venn2, venn3"
   ]
  },
  {
   "cell_type": "code",
   "execution_count": 3,
   "metadata": {
    "collapsed": true
   },
   "outputs": [],
   "source": [
    "def infoparse(x):\n",
    "    key   = [i.split('=')[0] for i in x.split(';')]\n",
    "    value = [i.split('=')[1] for i in x.split(';')]\n",
    "    return dict(zip(key,value))"
   ]
  },
  {
   "cell_type": "code",
   "execution_count": 4,
   "metadata": {
    "collapsed": false
   },
   "outputs": [
    {
     "name": "stderr",
     "output_type": "stream",
     "text": [
      "/usr/local/lib/python2.7/dist-packages/ipykernel/__main__.py:8: SettingWithCopyWarning: \n",
      "A value is trying to be set on a copy of a slice from a DataFrame.\n",
      "Try using .loc[row_indexer,col_indexer] = value instead\n",
      "\n",
      "See the caveats in the documentation: http://pandas.pydata.org/pandas-docs/stable/indexing.html#indexing-view-versus-copy\n",
      "/usr/local/lib/python2.7/dist-packages/ipykernel/__main__.py:13: SettingWithCopyWarning: \n",
      "A value is trying to be set on a copy of a slice from a DataFrame.\n",
      "Try using .loc[row_indexer,col_indexer] = value instead\n",
      "\n",
      "See the caveats in the documentation: http://pandas.pydata.org/pandas-docs/stable/indexing.html#indexing-view-versus-copy\n",
      "/usr/local/lib/python2.7/dist-packages/ipykernel/__main__.py:21: SettingWithCopyWarning: \n",
      "A value is trying to be set on a copy of a slice from a DataFrame.\n",
      "Try using .loc[row_indexer,col_indexer] = value instead\n",
      "\n",
      "See the caveats in the documentation: http://pandas.pydata.org/pandas-docs/stable/indexing.html#indexing-view-versus-copy\n",
      "/usr/local/lib/python2.7/dist-packages/ipykernel/__main__.py:26: SettingWithCopyWarning: \n",
      "A value is trying to be set on a copy of a slice from a DataFrame.\n",
      "Try using .loc[row_indexer,col_indexer] = value instead\n",
      "\n",
      "See the caveats in the documentation: http://pandas.pydata.org/pandas-docs/stable/indexing.html#indexing-view-versus-copy\n"
     ]
    }
   ],
   "source": [
    "file_cds_new = '/ref/analysis/stringtie2genemodel.results/Cre/30kintron/V1.1/finalout/my_csv.csv.addgene.gff3.sort.gff3.cds.fa'\n",
    "dic_cds_new  = kang.Fasta2dic(file_cds_new)\n",
    "\n",
    "file_rgff    = '/ref/analysis/References/Creinhardtii/annotation/Creinhardtii_281_v5.5.gene.fix.gff3'\n",
    "df_rgff      = pd.read_csv(file_rgff,sep='\\t',comment='#',header=None)\n",
    "mask         = (df_rgff[2] == 'mRNA')\n",
    "df_rgff_mRNA = df_rgff[mask]\n",
    "df_rgff_mRNA['ID'] = df_rgff_mRNA[8].apply(lambda x: infoparse(x)['ID'])\n",
    "df_rgff_mRNA_ix = df_rgff_mRNA.set_index('ID')\n",
    "\n",
    "mask         = (df_rgff[2] == 'CDS')\n",
    "df_rgff_CDS = df_rgff[mask]\n",
    "df_rgff_CDS['Parent'] = df_rgff_CDS[8].apply(lambda x: infoparse(x)['Parent'])\n",
    "df_rgff_CDS_ix = df_rgff_CDS.set_index('Parent')\n",
    "\n",
    "\n",
    "file_tgff    = '/ref/analysis/stringtie2genemodel.results/Cre/30kintron/V1.1/finalout/my_csv.csv.addgene.gff3.sort.gff3.merge.all.gff3.sort.gff3'\n",
    "df_tgff      = pd.read_csv(file_tgff,sep='\\t',comment='#',header=None)\n",
    "mask         = (df_tgff[2] == 'mRNA')\n",
    "df_tgff_mRNA = df_tgff[mask]\n",
    "df_tgff_mRNA['ID'] = df_tgff_mRNA[8].apply(lambda x: infoparse(x)['ID'])\n",
    "df_tgff_mRNA_ix = df_tgff_mRNA.set_index('ID')\n",
    "\n",
    "mask         = (df_tgff[2] == 'CDS')\n",
    "df_tgff_CDS = df_tgff[mask]\n",
    "df_tgff_CDS['Parent'] = df_tgff_CDS[8].apply(lambda x: infoparse(x)['Parent'])\n",
    "df_tgff_CDS_ix = df_tgff_CDS.set_index('Parent')\n"
   ]
  },
  {
   "cell_type": "markdown",
   "metadata": {},
   "source": [
    "---\n",
    "**RNAseq cov analysis matrix**"
   ]
  },
  {
   "cell_type": "code",
   "execution_count": 5,
   "metadata": {
    "collapsed": true
   },
   "outputs": [],
   "source": [
    "file_cov = '/ref/analysis/bam2gene.cre/all.merged.bam.transcripts.all.txt'\n",
    "df_cov = pd.read_csv(file_cov,sep='\\t',header=None)\n",
    "df_cov.columns = ['transcript','1xcov','10xcov','30xcov','depth.ratio','depth','match','match.ratio']\n",
    "\n",
    "mask = (df_cov['30xcov'] > 0.9)&(df_cov['match.ratio']>0.9) \n",
    "well_cov_transcripts = set(df_cov['transcript'][mask])"
   ]
  },
  {
   "cell_type": "markdown",
   "metadata": {},
   "source": [
    "----\n",
    "**Stringtie and ORF annotation matrix**"
   ]
  },
  {
   "cell_type": "code",
   "execution_count": 6,
   "metadata": {
    "collapsed": true
   },
   "outputs": [],
   "source": [
    "file_tmap_st = '/ref/analysis/stringtie2genemodel.results/Cre/30kintron/V1.1/st_gff_out/cuffcmp.all.merged.bam.stringtie.gff.tmap'\n",
    "df_tmap_st   = pd.read_csv(file_tmap_st,sep='\\t')\n",
    "file_tmap_td = '/ref/analysis/stringtie2genemodel.results/Cre/30kintron/V1.1/predicted/cuffcmp.my_csv.csv.addgene.gff3.sort.gff3.tmap'\n",
    "df_tmap_td   = pd.read_csv(file_tmap_td,sep='\\t')\n",
    "\n",
    "\n",
    "dic_cds_cre      = kang.Fasta2dic('/ref/analysis/References/Creinhardtii/annotation/Creinhardtii_281_v5.5.cds.fa')\n",
    "total_transcript = set([x+'.v5.5' for x in dic_cds_cre.keys()])\n",
    "df_tmap_st.set_index('ref_id',inplace=True)\n",
    "df_tmap_td.set_index('ref_id',inplace=True)\n",
    "\n",
    "dic = {'transcriptname' : [],\n",
    "       'st.=' : [],\n",
    "       'st.j' : [],\n",
    "       'st.c' : [],\n",
    "       'td.=' : [],\n",
    "       'td.j' : [],\n",
    "       'td.c' : [],\n",
    "       'cov'  : []}\n",
    "\n",
    "transcriptnames = set([x for x in list(df_tmap_td.index) + list(df_tmap_st.index)  if '-' not in x])\n",
    "for tn in list(total_transcript):\n",
    "    dic['transcriptname'].append(tn)\n",
    "    \n",
    "    if tn in well_cov_transcripts:\n",
    "        dic['cov'].append(1)\n",
    "    else:\n",
    "        dic['cov'].append(0)\n",
    "        \n",
    "    try:\n",
    "        class_code_st = df_tmap_st.loc[tn]['class_code']\n",
    "        if isinstance(class_code_st,str):\n",
    "            class_code_st = [class_code_st]\n",
    "        else:\n",
    "            class_code_st = list(class_code_st)\n",
    "        if '=' in class_code_st:\n",
    "            dic['st.='].append(1)\n",
    "        else:\n",
    "            dic['st.='].append(0)\n",
    "        if 'j' in class_code_st:\n",
    "            dic['st.j'].append(1)\n",
    "        else:\n",
    "            dic['st.j'].append(0)\n",
    "        if 'c' in class_code_st:\n",
    "            dic['st.c'].append(1)\n",
    "        else:\n",
    "            dic['st.c'].append(0)\n",
    "    except KeyError:\n",
    "        dic['st.='].append(0)\n",
    "        dic['st.j'].append(0)\n",
    "        dic['st.c'].append(0)\n",
    "        \n",
    "    try:\n",
    "        class_code_td = df_tmap_td.loc[tn]['class_code']\n",
    "        if isinstance(class_code_td,str):\n",
    "            class_code_td = [class_code_td]\n",
    "        else:\n",
    "            class_code_td = list(class_code_td)\n",
    "        if '=' in class_code_td:\n",
    "            dic['td.='].append(1)\n",
    "        else:\n",
    "            dic['td.='].append(0)\n",
    "        if 'j' in class_code_td:\n",
    "            dic['td.j'].append(1)\n",
    "        else:\n",
    "            dic['td.j'].append(0)\n",
    "        if 'c' in class_code_td:\n",
    "            dic['td.c'].append(1)\n",
    "        else:\n",
    "            dic['td.c'].append(0)\n",
    "    except KeyError:\n",
    "        dic['td.='].append(0)\n",
    "        dic['td.j'].append(0)\n",
    "        dic['td.c'].append(0)\n",
    "\n",
    "\n",
    "df_comp = pd.DataFrame(dic)"
   ]
  },
  {
   "cell_type": "code",
   "execution_count": 7,
   "metadata": {
    "collapsed": false
   },
   "outputs": [],
   "source": [
    "## scoring scheme\n",
    "def get_score(df):\n",
    "    sm = df['st.=']\n",
    "    sc = df['st.c']\n",
    "    sj = df['st.j']\n",
    "    tm = df['td.=']\n",
    "    tc = df['td.c']\n",
    "    tj = df['td.j']\n",
    "    cov = df['cov']\n",
    "    \n",
    "    score = sm*3 + sj*2 + sc*1 + tm*3 + tj*2 + tc*1 + cov*3\n",
    "    \n",
    "    return score\n",
    "    \n",
    "df_comp['score'] = df_comp.apply(get_score,axis=1)\n",
    "\n",
    "df_comp['genename'] = df_comp['transcriptname'].apply(lambda x : '.'.join(x.split('.')[0:2]))\n",
    "\n",
    "df_comp_ix = df_comp.set_index('genename')\n",
    "\n",
    "df_comp_ix.sortlevel(inplace=True)"
   ]
  },
  {
   "cell_type": "code",
   "execution_count": 8,
   "metadata": {
    "collapsed": false,
    "scrolled": true
   },
   "outputs": [
    {
     "data": {
      "text/html": [
       "<div>\n",
       "<table border=\"1\" class=\"dataframe\">\n",
       "  <thead>\n",
       "    <tr style=\"text-align: right;\">\n",
       "      <th></th>\n",
       "      <th>cov</th>\n",
       "      <th>st.=</th>\n",
       "      <th>st.c</th>\n",
       "      <th>st.j</th>\n",
       "      <th>td.=</th>\n",
       "      <th>td.c</th>\n",
       "      <th>td.j</th>\n",
       "      <th>transcriptname</th>\n",
       "      <th>score</th>\n",
       "      <th>length</th>\n",
       "    </tr>\n",
       "    <tr>\n",
       "      <th>genename</th>\n",
       "      <th></th>\n",
       "      <th></th>\n",
       "      <th></th>\n",
       "      <th></th>\n",
       "      <th></th>\n",
       "      <th></th>\n",
       "      <th></th>\n",
       "      <th></th>\n",
       "      <th></th>\n",
       "      <th></th>\n",
       "    </tr>\n",
       "  </thead>\n",
       "  <tbody>\n",
       "    <tr>\n",
       "      <th>Cre01.g000017</th>\n",
       "      <td>1</td>\n",
       "      <td>1</td>\n",
       "      <td>0</td>\n",
       "      <td>0</td>\n",
       "      <td>0</td>\n",
       "      <td>0</td>\n",
       "      <td>0</td>\n",
       "      <td>Cre01.g000017.t1.1.v5.5</td>\n",
       "      <td>6</td>\n",
       "      <td>636</td>\n",
       "    </tr>\n",
       "    <tr>\n",
       "      <th>Cre01.g000033</th>\n",
       "      <td>1</td>\n",
       "      <td>0</td>\n",
       "      <td>0</td>\n",
       "      <td>0</td>\n",
       "      <td>0</td>\n",
       "      <td>0</td>\n",
       "      <td>0</td>\n",
       "      <td>Cre01.g000033.t1.1.v5.5</td>\n",
       "      <td>3</td>\n",
       "      <td>1377</td>\n",
       "    </tr>\n",
       "    <tr>\n",
       "      <th>Cre01.g000050</th>\n",
       "      <td>1</td>\n",
       "      <td>1</td>\n",
       "      <td>0</td>\n",
       "      <td>0</td>\n",
       "      <td>1</td>\n",
       "      <td>0</td>\n",
       "      <td>0</td>\n",
       "      <td>Cre01.g000050.t1.1.v5.5</td>\n",
       "      <td>9</td>\n",
       "      <td>4815</td>\n",
       "    </tr>\n",
       "    <tr>\n",
       "      <th>Cre01.g000100</th>\n",
       "      <td>1</td>\n",
       "      <td>1</td>\n",
       "      <td>0</td>\n",
       "      <td>0</td>\n",
       "      <td>1</td>\n",
       "      <td>0</td>\n",
       "      <td>0</td>\n",
       "      <td>Cre01.g000100.t1.1.v5.5</td>\n",
       "      <td>9</td>\n",
       "      <td>7230</td>\n",
       "    </tr>\n",
       "    <tr>\n",
       "      <th>Cre01.g000150</th>\n",
       "      <td>1</td>\n",
       "      <td>1</td>\n",
       "      <td>0</td>\n",
       "      <td>0</td>\n",
       "      <td>1</td>\n",
       "      <td>0</td>\n",
       "      <td>0</td>\n",
       "      <td>Cre01.g000150.t1.2.v5.5</td>\n",
       "      <td>9</td>\n",
       "      <td>2502</td>\n",
       "    </tr>\n",
       "  </tbody>\n",
       "</table>\n",
       "</div>"
      ],
      "text/plain": [
       "               cov  st.=  st.c  st.j  td.=  td.c  td.j  \\\n",
       "genename                                                 \n",
       "Cre01.g000017    1     1     0     0     0     0     0   \n",
       "Cre01.g000033    1     0     0     0     0     0     0   \n",
       "Cre01.g000050    1     1     0     0     1     0     0   \n",
       "Cre01.g000100    1     1     0     0     1     0     0   \n",
       "Cre01.g000150    1     1     0     0     1     0     0   \n",
       "\n",
       "                        transcriptname  score  length  \n",
       "genename                                               \n",
       "Cre01.g000017  Cre01.g000017.t1.1.v5.5      6     636  \n",
       "Cre01.g000033  Cre01.g000033.t1.1.v5.5      3    1377  \n",
       "Cre01.g000050  Cre01.g000050.t1.1.v5.5      9    4815  \n",
       "Cre01.g000100  Cre01.g000100.t1.1.v5.5      9    7230  \n",
       "Cre01.g000150  Cre01.g000150.t1.2.v5.5      9    2502  "
      ]
     },
     "execution_count": 8,
     "metadata": {},
     "output_type": "execute_result"
    }
   ],
   "source": [
    "df_comp_ix['length'] = df_comp_ix['transcriptname'].apply(lambda x : len(dic_cds_cre[x.replace('.v5.5','')]))\n",
    "df_comp_ix.head()"
   ]
  },
  {
   "cell_type": "code",
   "execution_count": 9,
   "metadata": {
    "collapsed": true
   },
   "outputs": [],
   "source": [
    "df_comp_ix.to_csv('final.comp.txt',sep='\\t')"
   ]
  },
  {
   "cell_type": "code",
   "execution_count": 10,
   "metadata": {
    "collapsed": false
   },
   "outputs": [
    {
     "data": {
      "image/png": "[encoded data removed]",
      "text/plain": [
       "<matplotlib.figure.Figure at 0x7f18516bed50>"
      ]
     },
     "metadata": {},
     "output_type": "display_data"
    }
   ],
   "source": [
    "plt.rcParams['figure.figsize'] = (5,5)\n",
    "plt.scatter(df_comp_ix['score'],df_comp_ix['length'],alpha='0.1')\n",
    "plt.xlabel('score')\n",
    "plt.ylabel('length (bp)')\n",
    "#plt.ylim(1000,80000)\n",
    "plt.savefig('length2score.png',dpi=300,bbox_inches='tight' )\n"
   ]
  },
  {
   "cell_type": "code",
   "execution_count": 11,
   "metadata": {
    "collapsed": false
   },
   "outputs": [
    {
     "name": "stdout",
     "output_type": "stream",
     "text": [
      "Reference trans not evidenced by ST or ORFA or RNAcov 2187\n",
      "Reference genes not evidenced by ST or ORFA or RNAcov 1729\n"
     ]
    }
   ],
   "source": [
    "def ismem(x,inset):\n",
    "    if x in inset:\n",
    "        return True\n",
    "    else: return False\n",
    "\n",
    "mask          = (df_comp['score'] == 0 )\n",
    "num_ref_trans_not_evi = len(df_comp[mask])\n",
    "nonzero_genes = set(df_comp[~mask]['genename']) # retriving genenames with non-zero score\n",
    "mask          = df_comp['genename'].apply(lambda x : ismem(x,nonzero_genes)) \n",
    "df_comp_zero  = df_comp[~mask] # retrieve df with zero genes \n",
    "num_ref_gene_not_evi = len(set(df_comp_zero['genename'])) # Reference genes not evidenced by ST or ORFA\n",
    "print 'Reference trans not evidenced by ST or ORFA or RNAcov', num_ref_trans_not_evi\n",
    "print 'Reference genes not evidenced by ST or ORFA or RNAcov', num_ref_gene_not_evi"
   ]
  },
  {
   "cell_type": "code",
   "execution_count": 12,
   "metadata": {
    "collapsed": false
   },
   "outputs": [
    {
     "name": "stdout",
     "output_type": "stream",
     "text": [
      "completely matched reference trans by stringtie or ORFA 13099\n",
      "completely matched referece genes by stringtie or ORFA 12503\n"
     ]
    }
   ],
   "source": [
    "# number of completely matched transcripts based on stringtie and ORF annotation\n",
    "mask = (df_comp['st.='].astype(int) == 1) | (df_comp['td.='].astype(int) == 1)\n",
    "comp_match_transname = df_comp[mask]['transcriptname']\n",
    "comp_match_genesname = list(set(df_comp[mask]['genename']))\n",
    "num_ref_trans_comp_ST_ORFA = len(comp_match_transname)\n",
    "num_ref_genes_comp_ST_ORFA = len(comp_match_genesname)\n",
    "print 'completely matched reference trans by stringtie or ORFA', num_ref_trans_comp_ST_ORFA\n",
    "print 'completely matched referece genes by stringtie or ORFA', num_ref_genes_comp_ST_ORFA"
   ]
  },
  {
   "cell_type": "code",
   "execution_count": 13,
   "metadata": {
    "collapsed": false
   },
   "outputs": [
    {
     "name": "stdout",
     "output_type": "stream",
     "text": [
      "Reference transcripts evidenced by ST or ORFA 15697\n",
      "Reference genes not evidenced by ST or ORFA 2793\n"
     ]
    }
   ],
   "source": [
    "# well supported list by '=','j','c'  based on stringtie and ORF annotation \n",
    "def support(x):\n",
    "    if x in ['=','j','c']:\n",
    "        return True\n",
    "    else:\n",
    "        return False\n",
    "mask      = df_tmap_st['class_code'].apply(support)\n",
    "st_supp   = df_tmap_st[mask].index\n",
    "mask      = df_tmap_td['class_code'].apply(support)\n",
    "td_supp   = df_tmap_td[mask].index\n",
    "supp_list = set([x for x in list(st_supp) + list(td_supp) if '-' not in x])\n",
    "ref_trans_evi_ST_ORFA = len(list(supp_list))\n",
    "print 'Reference transcripts evidenced by ST or ORFA', ref_trans_evi_ST_ORFA\n",
    "\n",
    "supp_list_gene = set(['.'.join(x.split('.')[0:2]) for x in list(supp_list)])\n",
    "ref_genelist   = set(['.'.join(x.split('.')[0:2]) for x in dic_cds_cre.keys()])\n",
    "ref_genes_evi_ST_ORFA = len(ref_genelist-supp_list_gene)\n",
    "print 'Reference genes not evidenced by ST or ORFA', ref_genes_evi_ST_ORFA"
   ]
  },
  {
   "cell_type": "code",
   "execution_count": 14,
   "metadata": {
    "collapsed": false
   },
   "outputs": [
    {
     "data": {
      "text/html": [
       "<div>\n",
       "<table border=\"1\" class=\"dataframe\">\n",
       "  <thead>\n",
       "    <tr style=\"text-align: right;\">\n",
       "      <th></th>\n",
       "      <th>cov</th>\n",
       "      <th>st.=</th>\n",
       "      <th>st.c</th>\n",
       "      <th>st.j</th>\n",
       "      <th>td.=</th>\n",
       "      <th>td.c</th>\n",
       "      <th>td.j</th>\n",
       "      <th>transcriptname</th>\n",
       "      <th>score</th>\n",
       "      <th>genename</th>\n",
       "    </tr>\n",
       "  </thead>\n",
       "  <tbody>\n",
       "    <tr>\n",
       "      <th>0</th>\n",
       "      <td>1</td>\n",
       "      <td>0</td>\n",
       "      <td>0</td>\n",
       "      <td>0</td>\n",
       "      <td>1</td>\n",
       "      <td>0</td>\n",
       "      <td>0</td>\n",
       "      <td>Cre15.g636750.t1.2.v5.5</td>\n",
       "      <td>6</td>\n",
       "      <td>Cre15.g636750</td>\n",
       "    </tr>\n",
       "    <tr>\n",
       "      <th>1</th>\n",
       "      <td>1</td>\n",
       "      <td>1</td>\n",
       "      <td>1</td>\n",
       "      <td>0</td>\n",
       "      <td>1</td>\n",
       "      <td>1</td>\n",
       "      <td>0</td>\n",
       "      <td>Cre09.g390393.t1.1.v5.5</td>\n",
       "      <td>11</td>\n",
       "      <td>Cre09.g390393</td>\n",
       "    </tr>\n",
       "    <tr>\n",
       "      <th>2</th>\n",
       "      <td>1</td>\n",
       "      <td>1</td>\n",
       "      <td>0</td>\n",
       "      <td>0</td>\n",
       "      <td>1</td>\n",
       "      <td>0</td>\n",
       "      <td>0</td>\n",
       "      <td>Cre02.g076250.t1.1.v5.5</td>\n",
       "      <td>9</td>\n",
       "      <td>Cre02.g076250</td>\n",
       "    </tr>\n",
       "    <tr>\n",
       "      <th>3</th>\n",
       "      <td>1</td>\n",
       "      <td>0</td>\n",
       "      <td>0</td>\n",
       "      <td>1</td>\n",
       "      <td>1</td>\n",
       "      <td>0</td>\n",
       "      <td>0</td>\n",
       "      <td>Cre09.g400664.t1.1.v5.5</td>\n",
       "      <td>8</td>\n",
       "      <td>Cre09.g400664</td>\n",
       "    </tr>\n",
       "    <tr>\n",
       "      <th>4</th>\n",
       "      <td>0</td>\n",
       "      <td>0</td>\n",
       "      <td>0</td>\n",
       "      <td>0</td>\n",
       "      <td>0</td>\n",
       "      <td>0</td>\n",
       "      <td>0</td>\n",
       "      <td>Cre05.g234000.t2.1.v5.5</td>\n",
       "      <td>0</td>\n",
       "      <td>Cre05.g234000</td>\n",
       "    </tr>\n",
       "  </tbody>\n",
       "</table>\n",
       "</div>"
      ],
      "text/plain": [
       "   cov  st.=  st.c  st.j  td.=  td.c  td.j           transcriptname  score  \\\n",
       "0    1     0     0     0     1     0     0  Cre15.g636750.t1.2.v5.5      6   \n",
       "1    1     1     1     0     1     1     0  Cre09.g390393.t1.1.v5.5     11   \n",
       "2    1     1     0     0     1     0     0  Cre02.g076250.t1.1.v5.5      9   \n",
       "3    1     0     0     1     1     0     0  Cre09.g400664.t1.1.v5.5      8   \n",
       "4    0     0     0     0     0     0     0  Cre05.g234000.t2.1.v5.5      0   \n",
       "\n",
       "        genename  \n",
       "0  Cre15.g636750  \n",
       "1  Cre09.g390393  \n",
       "2  Cre02.g076250  \n",
       "3  Cre09.g400664  \n",
       "4  Cre05.g234000  "
      ]
     },
     "execution_count": 14,
     "metadata": {},
     "output_type": "execute_result"
    }
   ],
   "source": [
    "df_comp.head()"
   ]
  },
  {
   "cell_type": "code",
   "execution_count": 15,
   "metadata": {
    "collapsed": false
   },
   "outputs": [
    {
     "name": "stdout",
     "output_type": "stream",
     "text": [
      "Reference transcipts completely matched by stringtie 9416\n",
      "Reference transcipts completely matched by ORF annotation 12532\n"
     ]
    }
   ],
   "source": [
    "mask  = (df_comp['td.='].astype(int) == 1)\n",
    "td_cm = set(df_comp[mask]['transcriptname'])\n",
    "mask  = (df_comp['st.='].astype(int) == 1)\n",
    "st_cm = set(df_comp[mask]['transcriptname'])\n",
    "\n",
    "ref_trans_comp_ST   = len(st_cm)\n",
    "ref_trans_comp_ORFA = len(td_cm)\n",
    "print 'Reference transcipts completely matched by stringtie',ref_trans_comp_ST\n",
    "print 'Reference transcipts completely matched by ORF annotation',ref_trans_comp_ORFA"
   ]
  },
  {
   "cell_type": "code",
   "execution_count": 16,
   "metadata": {
    "collapsed": false
   },
   "outputs": [
    {
     "name": "stdout",
     "output_type": "stream",
     "text": [
      "40605 20212\n"
     ]
    }
   ],
   "source": [
    "num_trans_predicted_ST = len(set(df_tmap_st['cuff_id']))\n",
    "num_trans_predicted_ORFA = len(set(df_tmap_td['cuff_id']))\n",
    "print num_trans_predicted_ST,num_trans_predicted_ORFA"
   ]
  },
  {
   "cell_type": "code",
   "execution_count": 17,
   "metadata": {
    "collapsed": false
   },
   "outputs": [
    {
     "data": {
      "text/html": [
       "<div>\n",
       "<table border=\"1\" class=\"dataframe\">\n",
       "  <thead>\n",
       "    <tr style=\"text-align: right;\">\n",
       "      <th></th>\n",
       "      <th>0</th>\n",
       "    </tr>\n",
       "  </thead>\n",
       "  <tbody>\n",
       "    <tr>\n",
       "      <th>ORF annotation predicted transcripts</th>\n",
       "      <td>20212</td>\n",
       "    </tr>\n",
       "    <tr>\n",
       "      <th>reference genes not evidenced by stringtie or ORF annotation</th>\n",
       "      <td>2793</td>\n",
       "    </tr>\n",
       "    <tr>\n",
       "      <th>reference genes not evidenced by stringtie or ORF annotation or RNAcov</th>\n",
       "      <td>1729</td>\n",
       "    </tr>\n",
       "    <tr>\n",
       "      <th>reference transcripts completely supported by ORF annotation</th>\n",
       "      <td>12532</td>\n",
       "    </tr>\n",
       "    <tr>\n",
       "      <th>reference transcripts completely supported by stringtie</th>\n",
       "      <td>9416</td>\n",
       "    </tr>\n",
       "    <tr>\n",
       "      <th>reference transcripts evidenced by stringtie or ORF annotation</th>\n",
       "      <td>15697</td>\n",
       "    </tr>\n",
       "    <tr>\n",
       "      <th>reference transcripts not evidenced by stringtie or ORF annotation</th>\n",
       "      <td>3829</td>\n",
       "    </tr>\n",
       "    <tr>\n",
       "      <th>reference transcripts not evidenced by stringtie or ORF annotation or RNAcov</th>\n",
       "      <td>2187</td>\n",
       "    </tr>\n",
       "    <tr>\n",
       "      <th>stringtie predicted transcripts</th>\n",
       "      <td>40605</td>\n",
       "    </tr>\n",
       "    <tr>\n",
       "      <th>total reference genes completely supported by stringtie or ORF annotation</th>\n",
       "      <td>12503</td>\n",
       "    </tr>\n",
       "    <tr>\n",
       "      <th>total reference transcript</th>\n",
       "      <td>19526</td>\n",
       "    </tr>\n",
       "    <tr>\n",
       "      <th>total reference transcripts completely supported by stringtie or ORF annotation</th>\n",
       "      <td>13099</td>\n",
       "    </tr>\n",
       "  </tbody>\n",
       "</table>\n",
       "</div>"
      ],
      "text/plain": [
       "                                                        0\n",
       "ORF annotation predicted transcripts                20212\n",
       "reference genes not evidenced by stringtie or O...   2793\n",
       "reference genes not evidenced by stringtie or O...   1729\n",
       "reference transcripts completely supported by O...  12532\n",
       "reference transcripts completely supported by s...   9416\n",
       "reference transcripts evidenced by stringtie or...  15697\n",
       "reference transcripts not evidenced by stringti...   3829\n",
       "reference transcripts not evidenced by stringti...   2187\n",
       "stringtie predicted transcripts                     40605\n",
       "total reference genes completely supported by s...  12503\n",
       "total reference transcript                          19526\n",
       "total reference transcripts completely supporte...  13099"
      ]
     },
     "execution_count": 17,
     "metadata": {},
     "output_type": "execute_result"
    }
   ],
   "source": [
    "total_reference_transcripts = len(dic_cds_cre.keys())\n",
    "dic_result = {'total reference transcript' : [total_reference_transcripts],\n",
    "              'stringtie predicted transcripts' : [num_trans_predicted_ST],\n",
    "              'reference transcripts completely supported by stringtie' : [ref_trans_comp_ST],\n",
    "              'ORF annotation predicted transcripts' : [num_trans_predicted_ORFA],\n",
    "              'reference transcripts completely supported by ORF annotation' : [ref_trans_comp_ORFA],\n",
    "              'total reference transcripts completely supported by stringtie or ORF annotation' : [num_ref_trans_comp_ST_ORFA],\n",
    "              'total reference genes completely supported by stringtie or ORF annotation' : [num_ref_genes_comp_ST_ORFA],\n",
    "              'reference transcripts evidenced by stringtie or ORF annotation' : [ref_trans_evi_ST_ORFA],\n",
    "              'reference transcripts not evidenced by stringtie or ORF annotation' : [total_reference_transcripts - ref_trans_evi_ST_ORFA],\n",
    "              'reference genes not evidenced by stringtie or ORF annotation' : [ref_genes_evi_ST_ORFA],\n",
    "              'reference transcripts not evidenced by stringtie or ORF annotation or RNAcov' : [num_ref_trans_not_evi],\n",
    "              'reference genes not evidenced by stringtie or ORF annotation or RNAcov' : [num_ref_gene_not_evi]\n",
    "             }\n",
    "df_result = pd.DataFrame(dic_result)\n",
    "\n",
    "df_result.T"
   ]
  },
  {
   "cell_type": "markdown",
   "metadata": {
    "collapsed": true
   },
   "source": [
    "----\n",
    "**split and start/codon changes**"
   ]
  },
  {
   "cell_type": "code",
   "execution_count": 18,
   "metadata": {
    "collapsed": false
   },
   "outputs": [],
   "source": [
    "df_tmap_td.reset_index(inplace=True)"
   ]
  },
  {
   "cell_type": "code",
   "execution_count": 20,
   "metadata": {
    "collapsed": false
   },
   "outputs": [
    {
     "name": "stdout",
     "output_type": "stream",
     "text": [
      "('same', 12770, 11994, 12532)\n",
      "('part support', 402, 344, 347)\n",
      "('isoforms', 5120, 3188, 3188)\n",
      "('new', 418)\n"
     ]
    }
   ],
   "source": [
    "mask     = (df_tmap_td['class_code'] == '=')\n",
    "genes_fs = set(df_tmap_td[mask]['ref_gene_id'])\n",
    "trans_fs = set(df_tmap_td[mask]['ref_id'])\n",
    "print ('same',len(mask.nonzero()[0]), len(genes_fs), len(trans_fs))\n",
    "\n",
    "mask = (df_tmap_td['class_code'] == 'c')\n",
    "genes_ps = set(df_tmap_td[mask]['ref_gene_id'])\n",
    "trans_ps = set(df_tmap_td[mask]['ref_id'])\n",
    "print ('part support', len(mask.nonzero()[0]), len(genes_ps), len(trans_ps))\n",
    "\n",
    "mask = (df_tmap_td['class_code'] == 'j')\n",
    "genes_is = set(df_tmap_td[mask]['ref_gene_id'])\n",
    "trans_is = set(df_tmap_td[mask]['ref_id'])\n",
    "print ('isoforms', len(mask.nonzero()[0]), len(genes_is), len(trans_is))\n",
    "\n",
    "mask = (df_tmap_td['class_code'] == 'u')\n",
    "print ('new', len(mask.nonzero()[0]))\n",
    "\n",
    "df_result['number of new transcripts'] = len(mask.nonzero()[0])"
   ]
  },
  {
   "cell_type": "code",
   "execution_count": 21,
   "metadata": {
    "collapsed": false
   },
   "outputs": [],
   "source": [
    "dicR2C = {} # reference id to cuff_id , reference id correspond to multiple cuff_id\n",
    "dicR2cuffid = {}\n",
    "for i in df_tmap_td.index:\n",
    "    ref_id     = df_tmap_td.loc[i]['ref_id']\n",
    "    cuff_id    = df_tmap_td.loc[i]['cuff_id']\n",
    "    class_code = df_tmap_td.loc[i]['class_code']\n",
    "    \n",
    "    atg_bool   = dic_cds_new[cuff_id][0:3] == 'ATG'\n",
    "    if ref_id in trans_is - trans_fs - trans_ps and class_code == 'j':\n",
    "        pass\n",
    "    else:\n",
    "        continue\n",
    "    #print ref_id\n",
    "    rid_cov = np.arange(np.min(df_rgff_CDS_ix.loc[ref_id][[3,4]].values),np.max(df_rgff_CDS_ix.loc[ref_id][[3,4]].values)+1)\n",
    "    tid_cov = np.arange(np.min(df_tgff_CDS_ix.loc[cuff_id][[3,4]].values),np.max(df_tgff_CDS_ix.loc[cuff_id][[3,4]].values)+1)\n",
    "    try:\n",
    "        dicR2C[ref_id].append(tid_cov)\n",
    "    except KeyError:\n",
    "        dicR2C[ref_id] = [rid_cov,tid_cov]\n",
    "        #dicR2C[ref_id] = [tid_cov]\n",
    "    try:\n",
    "        dicR2cuffid[ref_id].append([cuff_id,atg_bool])\n",
    "    except KeyError:\n",
    "        dicR2cuffid[ref_id] = [[cuff_id,atg_bool]]\n",
    "    #ref_id_len = len(dicfa[ref_id.replace('.v5.5','')])\n",
    "    #cuff_id_len = len(diccds[cuff_id])\n",
    "    #comp =  float(ref_id_len) / cuff_id_len \n",
    "    #if comp > 2 or comp < 0.5: \n",
    "    #    result.append( cuff_id)\n",
    "        "
   ]
  },
  {
   "cell_type": "code",
   "execution_count": null,
   "metadata": {
    "collapsed": true
   },
   "outputs": [],
   "source": [
    "split    = []\n",
    "split2   = []\n",
    "extended = []\n",
    "changed_shrink  = []\n",
    "changed_extend  = []\n",
    "for key in dicR2C:\n",
    "    ref_set       = set(dicR2C[key][0])\n",
    "    t_set_list    = [set(x) for x in dicR2C[key][1:]]\n",
    "    t_set_list.sort(key=lambda x : len(x),reverse=True)\n",
    "    try:\n",
    "        longest_t_set = t_set_list[0]\n",
    "    except IndexError:\n",
    "        continue\n",
    "    \n",
    "    ## SPLIT Gather\n",
    "    final_set     = ref_set\n",
    "    for t_set in t_set_list:\n",
    "        if len((ref_set & t_set)) == 0:\n",
    "            continue\n",
    "        final_set = final_set & t_set\n",
    "    if len(final_set) == 0:\n",
    "        split.append(key)\n",
    "    ## SPLIT Gather END\n",
    "    \n",
    "    \n",
    "    ## START and END change\n",
    "    start = np.min(df_rgff_CDS_ix.loc[key][[3,4]].values)\n",
    "    end   = np.max(df_rgff_CDS_ix.loc[key][[3,4]].values)\n",
    "    b = 1\n",
    "    for t_set in t_set_list:\n",
    "        if start not in (ref_set - t_set) and end not in (ref_set - t_set):\n",
    "            b = 0\n",
    "    if b == 1:\n",
    "        changed_shrink.append(key)\n",
    "        \n",
    "    b = 1 \n",
    "    for t_set in t_set_list:\n",
    "        if start-1 not in (t_set - ref_set) and end+1 not in (t_set - ref_set):\n",
    "            b = 0\n",
    "    if b == 1:\n",
    "        changed_extend.append(key)"
   ]
  },
  {
   "cell_type": "code",
   "execution_count": null,
   "metadata": {
    "collapsed": false
   },
   "outputs": [],
   "source": [
    "num_split   = len(split)\n",
    "num_shrink  = len(changed_shrink)\n",
    "list_extend = list(set(changed_extend) - set(changed_shrink))\n",
    "num_extend = len(list_extend)"
   ]
  },
  {
   "cell_type": "code",
   "execution_count": null,
   "metadata": {
    "collapsed": true
   },
   "outputs": [],
   "source": [
    "df_result['reference transcripts, predicted to be split']  = num_split\n",
    "df_result['reference transcripts, predicted to be shrink changing start or stop codon'] = num_shrink\n",
    "df_result['reference transcripts, predicted to be extended changing start or stop codon'] = num_extend"
   ]
  },
  {
   "cell_type": "code",
   "execution_count": null,
   "metadata": {
    "collapsed": false
   },
   "outputs": [],
   "source": [
    "df_result.T"
   ]
  },
  {
   "cell_type": "code",
   "execution_count": 30,
   "metadata": {
    "collapsed": false
   },
   "outputs": [
    {
     "data": {
      "image/png": "[encoded data removed]",
      "text/plain": [
       "<matplotlib.figure.Figure at 0x7fbb3296ec50>"
      ]
     },
     "metadata": {},
     "output_type": "display_data"
    }
   ],
   "source": [
    "# venn for transcripts that are completely supported venn2\n",
    "plt.rcParams['figure.figsize'] = (5,5)\n",
    "venn2([td_cm,st_cm], ('AddingORF (%d)'%len(td_cm),'StringTie (%d)'%len(st_cm)))\n",
    "plt.savefig('venn.orf.st.venn2.trans.png',dpi=400)"
   ]
  },
  {
   "cell_type": "code",
   "execution_count": 34,
   "metadata": {
    "collapsed": false
   },
   "outputs": [
    {
     "data": {
      "image/png": "[encoded data removed]",
      "text/plain": [
       "<matplotlib.figure.Figure at 0x7fbb2d98f7d0>"
      ]
     },
     "metadata": {},
     "output_type": "display_data"
    }
   ],
   "source": [
    "# venn3 for completely supported genes\n",
    "td_cm_g = set(['.'.join(x.split('.')[0:2]) for x in list(td_cm)])\n",
    "st_cm_g = set(['.'.join(x.split('.')[0:2]) for x in list(st_cm)])\n",
    "well_cov_transcripts_g = set(['.'.join(x.split('.')[0:2]) for x in list(well_cov_transcripts)])\n",
    "venn3([td_cm_g,st_cm_g,well_cov_transcripts_g], ('AddingORF (%d)'%len(td_cm_g),'StringTie (%d)'%len(st_cm_g),'well covered (%d)'%len(well_cov_transcripts_g)))\n",
    "plt.savefig('venn.orf.st.gene.png',dpi=400)"
   ]
  },
  {
   "cell_type": "code",
   "execution_count": 59,
   "metadata": {
    "collapsed": false
   },
   "outputs": [
    {
     "data": {
      "image/png": "[encoded data removed]",
      "text/plain": [
       "<matplotlib.figure.Figure at 0x7fbb2d220c10>"
      ]
     },
     "metadata": {},
     "output_type": "display_data"
    }
   ],
   "source": [
    "# venn for genes venn2\n",
    "plt.rcParams['figure.figsize'] = (5,5)\n",
    "venn2([td_cm_g,st_cm_g], ('AddingORF (%d)'%len(td_cm_g),'StringTie (%d)'%len(st_cm_g)))\n",
    "plt.savefig('venn.orf.st.venn2.gene.png',dpi=400)"
   ]
  },
  {
   "cell_type": "code",
   "execution_count": 36,
   "metadata": {
    "collapsed": false
   },
   "outputs": [
    {
     "data": {
      "image/png": "[encoded data removed]",
      "text/plain": [
       "<matplotlib.figure.Figure at 0x7fbb32aa52d0>"
      ]
     },
     "metadata": {},
     "output_type": "display_data"
    }
   ],
   "source": [
    "# venn for transcripts\n",
    "\n",
    "plt.rcParams['figure.figsize'] = (5,5)\n",
    "venn3([td_cm,st_cm,well_cov_transcripts], ('AddingORF (%d)'%len(td_cm),'StringTie (%d)'%len(st_cm),'well covered (%d)'%len(well_cov_transcripts)))\n",
    "plt.savefig('venn.orf.st.trans.png',dpi=400)"
   ]
  },
  {
   "cell_type": "code",
   "execution_count": 38,
   "metadata": {
    "collapsed": false
   },
   "outputs": [],
   "source": [
    "total_gene = set(['.'.join(x.split('.')[0:2]) for x in total_transcript])\n",
    "supp_list_g = set(['.'.join(x.split('.')[0:2]) for x in supp_list])\n",
    "no_supp_list = (total_gene - supp_list_g)\n",
    "\n"
   ]
  },
  {
   "cell_type": "code",
   "execution_count": 40,
   "metadata": {
    "collapsed": false
   },
   "outputs": [
    {
     "data": {
      "image/png": "[encoded data removed]",
      "text/plain": [
       "<matplotlib.figure.Figure at 0x7fbb2d572e50>"
      ]
     },
     "metadata": {},
     "output_type": "display_data"
    }
   ],
   "source": [
    "# venn for gene venn2\n",
    "plt.rcParams['figure.figsize'] = (5,5)\n",
    "venn2([no_supp_list,well_cov_transcripts_g], ('No support (%d)'%len(no_supp_list),'Well covered (%d)'%len(well_cov_transcripts)))\n",
    "plt.savefig('venn.orf.nosupp.venn2.gene.png',dpi=400)"
   ]
  },
  {
   "cell_type": "code",
   "execution_count": 72,
   "metadata": {
    "collapsed": false
   },
   "outputs": [
    {
     "ename": "NameError",
     "evalue": "name 'no_supp_list' is not defined",
     "output_type": "error",
     "traceback": [
      "\u001b[1;31m---------------------------------------------------------------------------\u001b[0m",
      "\u001b[1;31mNameError\u001b[0m                                 Traceback (most recent call last)",
      "\u001b[1;32m<ipython-input-72-3209a6a9ca24>\u001b[0m in \u001b[0;36m<module>\u001b[1;34m()\u001b[0m\n\u001b[1;32m----> 1\u001b[1;33m \u001b[0mcommon\u001b[0m \u001b[1;33m=\u001b[0m \u001b[1;33m(\u001b[0m\u001b[0mno_supp_list\u001b[0m \u001b[1;33m&\u001b[0m \u001b[0mwell_cov_genes_g\u001b[0m\u001b[1;33m)\u001b[0m\u001b[1;33m\u001b[0m\u001b[0m\n\u001b[0m\u001b[0;32m      2\u001b[0m \u001b[0mmask\u001b[0m \u001b[1;33m=\u001b[0m \u001b[0mdf_tmap_st\u001b[0m\u001b[1;33m.\u001b[0m\u001b[0mreset_index\u001b[0m\u001b[1;33m(\u001b[0m\u001b[1;33m)\u001b[0m\u001b[1;33m[\u001b[0m\u001b[1;34m'ref_id'\u001b[0m\u001b[1;33m]\u001b[0m\u001b[1;33m.\u001b[0m\u001b[0mapply\u001b[0m\u001b[1;33m(\u001b[0m\u001b[1;32mlambda\u001b[0m \u001b[0mx\u001b[0m \u001b[1;33m:\u001b[0m \u001b[1;34m'.'\u001b[0m\u001b[1;33m.\u001b[0m\u001b[0mjoin\u001b[0m\u001b[1;33m(\u001b[0m\u001b[0mx\u001b[0m\u001b[1;33m.\u001b[0m\u001b[0msplit\u001b[0m\u001b[1;33m(\u001b[0m\u001b[1;34m'.'\u001b[0m\u001b[1;33m)\u001b[0m\u001b[1;33m[\u001b[0m\u001b[1;36m0\u001b[0m\u001b[1;33m:\u001b[0m\u001b[1;36m2\u001b[0m\u001b[1;33m]\u001b[0m\u001b[1;33m)\u001b[0m \u001b[1;32min\u001b[0m \u001b[0mcommon\u001b[0m\u001b[1;33m)\u001b[0m\u001b[1;33m\u001b[0m\u001b[0m\n\u001b[0;32m      3\u001b[0m \u001b[1;32mfrom\u001b[0m \u001b[0mcollections\u001b[0m \u001b[1;32mimport\u001b[0m \u001b[0mCounter\u001b[0m\u001b[1;33m\u001b[0m\u001b[0m\n\u001b[0;32m      4\u001b[0m \u001b[0mdicCount\u001b[0m \u001b[1;33m=\u001b[0m \u001b[0mCounter\u001b[0m\u001b[1;33m(\u001b[0m\u001b[0mdf_tmap_st\u001b[0m\u001b[1;33m.\u001b[0m\u001b[0mreset_index\u001b[0m\u001b[1;33m(\u001b[0m\u001b[1;33m)\u001b[0m\u001b[1;33m[\u001b[0m\u001b[0mmask\u001b[0m\u001b[1;33m]\u001b[0m\u001b[1;33m[\u001b[0m\u001b[1;34m'class_code'\u001b[0m\u001b[1;33m]\u001b[0m\u001b[1;33m)\u001b[0m\u001b[1;33m\u001b[0m\u001b[0m\n\u001b[0;32m      5\u001b[0m \u001b[0mlen\u001b[0m\u001b[1;33m(\u001b[0m\u001b[0mset\u001b[0m\u001b[1;33m(\u001b[0m\u001b[0mdf_tmap_st\u001b[0m\u001b[1;33m.\u001b[0m\u001b[0mreset_index\u001b[0m\u001b[1;33m(\u001b[0m\u001b[1;33m)\u001b[0m\u001b[1;33m[\u001b[0m\u001b[0mmask\u001b[0m\u001b[1;33m]\u001b[0m\u001b[1;33m[\u001b[0m\u001b[1;34m'ref_gene_id'\u001b[0m\u001b[1;33m]\u001b[0m\u001b[1;33m)\u001b[0m\u001b[1;33m)\u001b[0m\u001b[1;33m\u001b[0m\u001b[0m\n",
      "\u001b[1;31mNameError\u001b[0m: name 'no_supp_list' is not defined"
     ]
    }
   ],
   "source": [
    "common = (no_supp_list & well_cov_genes_g)\n",
    "mask = df_tmap_st.reset_index()['ref_id'].apply(lambda x : '.'.join(x.split('.')[0:2]) in common)\n",
    "from collections import Counter\n",
    "dicCount = Counter(df_tmap_st.reset_index()[mask]['class_code'])\n",
    "len(set(df_tmap_st.reset_index()[mask]['ref_gene_id']))"
   ]
  },
  {
   "cell_type": "code",
   "execution_count": null,
   "metadata": {
    "collapsed": false
   },
   "outputs": [],
   "source": [
    "len(set(['.'.join(x.split('.')[0:2]) for x in list(total_transcript-supp_list)]))"
   ]
  },
  {
   "cell_type": "code",
   "execution_count": 41,
   "metadata": {
    "collapsed": false
   },
   "outputs": [
    {
     "data": {
      "text/html": [
       "<div>\n",
       "<table border=\"1\" class=\"dataframe\">\n",
       "  <thead>\n",
       "    <tr style=\"text-align: right;\">\n",
       "      <th></th>\n",
       "      <th>cov</th>\n",
       "      <th>st.=</th>\n",
       "      <th>st.c</th>\n",
       "      <th>st.j</th>\n",
       "      <th>td.=</th>\n",
       "      <th>td.c</th>\n",
       "      <th>td.j</th>\n",
       "      <th>transcriptname</th>\n",
       "      <th>score</th>\n",
       "      <th>genename</th>\n",
       "    </tr>\n",
       "  </thead>\n",
       "  <tbody>\n",
       "    <tr>\n",
       "      <th>0</th>\n",
       "      <td>1</td>\n",
       "      <td>0</td>\n",
       "      <td>0</td>\n",
       "      <td>0</td>\n",
       "      <td>1</td>\n",
       "      <td>0</td>\n",
       "      <td>0</td>\n",
       "      <td>Cre15.g636750.t1.2.v5.5</td>\n",
       "      <td>6</td>\n",
       "      <td>Cre15.g636750</td>\n",
       "    </tr>\n",
       "    <tr>\n",
       "      <th>1</th>\n",
       "      <td>1</td>\n",
       "      <td>1</td>\n",
       "      <td>1</td>\n",
       "      <td>0</td>\n",
       "      <td>1</td>\n",
       "      <td>1</td>\n",
       "      <td>0</td>\n",
       "      <td>Cre09.g390393.t1.1.v5.5</td>\n",
       "      <td>11</td>\n",
       "      <td>Cre09.g390393</td>\n",
       "    </tr>\n",
       "    <tr>\n",
       "      <th>2</th>\n",
       "      <td>1</td>\n",
       "      <td>1</td>\n",
       "      <td>0</td>\n",
       "      <td>0</td>\n",
       "      <td>1</td>\n",
       "      <td>0</td>\n",
       "      <td>0</td>\n",
       "      <td>Cre02.g076250.t1.1.v5.5</td>\n",
       "      <td>9</td>\n",
       "      <td>Cre02.g076250</td>\n",
       "    </tr>\n",
       "    <tr>\n",
       "      <th>3</th>\n",
       "      <td>1</td>\n",
       "      <td>0</td>\n",
       "      <td>0</td>\n",
       "      <td>1</td>\n",
       "      <td>1</td>\n",
       "      <td>0</td>\n",
       "      <td>0</td>\n",
       "      <td>Cre09.g400664.t1.1.v5.5</td>\n",
       "      <td>8</td>\n",
       "      <td>Cre09.g400664</td>\n",
       "    </tr>\n",
       "    <tr>\n",
       "      <th>4</th>\n",
       "      <td>0</td>\n",
       "      <td>0</td>\n",
       "      <td>0</td>\n",
       "      <td>0</td>\n",
       "      <td>0</td>\n",
       "      <td>0</td>\n",
       "      <td>0</td>\n",
       "      <td>Cre05.g234000.t2.1.v5.5</td>\n",
       "      <td>0</td>\n",
       "      <td>Cre05.g234000</td>\n",
       "    </tr>\n",
       "  </tbody>\n",
       "</table>\n",
       "</div>"
      ],
      "text/plain": [
       "   cov  st.=  st.c  st.j  td.=  td.c  td.j           transcriptname  score  \\\n",
       "0    1     0     0     0     1     0     0  Cre15.g636750.t1.2.v5.5      6   \n",
       "1    1     1     1     0     1     1     0  Cre09.g390393.t1.1.v5.5     11   \n",
       "2    1     1     0     0     1     0     0  Cre02.g076250.t1.1.v5.5      9   \n",
       "3    1     0     0     1     1     0     0  Cre09.g400664.t1.1.v5.5      8   \n",
       "4    0     0     0     0     0     0     0  Cre05.g234000.t2.1.v5.5      0   \n",
       "\n",
       "        genename  \n",
       "0  Cre15.g636750  \n",
       "1  Cre09.g390393  \n",
       "2  Cre02.g076250  \n",
       "3  Cre09.g400664  \n",
       "4  Cre05.g234000  "
      ]
     },
     "execution_count": 41,
     "metadata": {},
     "output_type": "execute_result"
    }
   ],
   "source": []
  },
  {
   "cell_type": "code",
   "execution_count": 53,
   "metadata": {
    "collapsed": false
   },
   "outputs": [
    {
     "data": {
      "text/html": [
       "<div>\n",
       "<table border=\"1\" class=\"dataframe\">\n",
       "  <thead>\n",
       "    <tr style=\"text-align: right;\">\n",
       "      <th></th>\n",
       "      <th>cov</th>\n",
       "      <th>st.=</th>\n",
       "      <th>st.c</th>\n",
       "      <th>st.j</th>\n",
       "      <th>td.=</th>\n",
       "      <th>td.c</th>\n",
       "      <th>td.j</th>\n",
       "      <th>transcriptname</th>\n",
       "      <th>score</th>\n",
       "      <th>genename</th>\n",
       "    </tr>\n",
       "  </thead>\n",
       "  <tbody>\n",
       "    <tr>\n",
       "      <th>4</th>\n",
       "      <td>0</td>\n",
       "      <td>0</td>\n",
       "      <td>0</td>\n",
       "      <td>0</td>\n",
       "      <td>0</td>\n",
       "      <td>0</td>\n",
       "      <td>0</td>\n",
       "      <td>Cre05.g234000.t2.1.v5.5</td>\n",
       "      <td>0</td>\n",
       "      <td>Cre05.g234000</td>\n",
       "    </tr>\n",
       "    <tr>\n",
       "      <th>5</th>\n",
       "      <td>0</td>\n",
       "      <td>0</td>\n",
       "      <td>0</td>\n",
       "      <td>0</td>\n",
       "      <td>0</td>\n",
       "      <td>0</td>\n",
       "      <td>0</td>\n",
       "      <td>Cre03.g146147.t1.1.v5.5</td>\n",
       "      <td>0</td>\n",
       "      <td>Cre03.g146147</td>\n",
       "    </tr>\n",
       "    <tr>\n",
       "      <th>18</th>\n",
       "      <td>0</td>\n",
       "      <td>0</td>\n",
       "      <td>0</td>\n",
       "      <td>0</td>\n",
       "      <td>0</td>\n",
       "      <td>0</td>\n",
       "      <td>0</td>\n",
       "      <td>Cre06.g302551.t1.1.v5.5</td>\n",
       "      <td>0</td>\n",
       "      <td>Cre06.g302551</td>\n",
       "    </tr>\n",
       "    <tr>\n",
       "      <th>28</th>\n",
       "      <td>0</td>\n",
       "      <td>0</td>\n",
       "      <td>0</td>\n",
       "      <td>0</td>\n",
       "      <td>0</td>\n",
       "      <td>0</td>\n",
       "      <td>0</td>\n",
       "      <td>Cre17.g733050.t2.1.v5.5</td>\n",
       "      <td>0</td>\n",
       "      <td>Cre17.g733050</td>\n",
       "    </tr>\n",
       "    <tr>\n",
       "      <th>50</th>\n",
       "      <td>0</td>\n",
       "      <td>0</td>\n",
       "      <td>0</td>\n",
       "      <td>0</td>\n",
       "      <td>0</td>\n",
       "      <td>0</td>\n",
       "      <td>0</td>\n",
       "      <td>Cre12.g485632.t1.2.v5.5</td>\n",
       "      <td>0</td>\n",
       "      <td>Cre12.g485632</td>\n",
       "    </tr>\n",
       "  </tbody>\n",
       "</table>\n",
       "</div>"
      ],
      "text/plain": [
       "    cov  st.=  st.c  st.j  td.=  td.c  td.j           transcriptname  score  \\\n",
       "4     0     0     0     0     0     0     0  Cre05.g234000.t2.1.v5.5      0   \n",
       "5     0     0     0     0     0     0     0  Cre03.g146147.t1.1.v5.5      0   \n",
       "18    0     0     0     0     0     0     0  Cre06.g302551.t1.1.v5.5      0   \n",
       "28    0     0     0     0     0     0     0  Cre17.g733050.t2.1.v5.5      0   \n",
       "50    0     0     0     0     0     0     0  Cre12.g485632.t1.2.v5.5      0   \n",
       "\n",
       "         genename  \n",
       "4   Cre05.g234000  \n",
       "5   Cre03.g146147  \n",
       "18  Cre06.g302551  \n",
       "28  Cre17.g733050  \n",
       "50  Cre12.g485632  "
      ]
     },
     "execution_count": 53,
     "metadata": {},
     "output_type": "execute_result"
    }
   ],
   "source": [
    "df_comp_zero.head()"
   ]
  },
  {
   "cell_type": "code",
   "execution_count": 54,
   "metadata": {
    "collapsed": true
   },
   "outputs": [],
   "source": [
    "zero_genes = set(df_comp_zero['genename'])"
   ]
  },
  {
   "cell_type": "code",
   "execution_count": 55,
   "metadata": {
    "collapsed": true
   },
   "outputs": [],
   "source": [
    "venn_zeros = set(no_supp_list-well_cov_transcripts_g)"
   ]
  },
  {
   "cell_type": "code",
   "execution_count": 56,
   "metadata": {
    "collapsed": false
   },
   "outputs": [
    {
     "data": {
      "text/plain": [
       "[]"
      ]
     },
     "execution_count": 56,
     "metadata": {},
     "output_type": "execute_result"
    }
   ],
   "source": [
    "list(zero_genes - venn_zeros)[0:10]"
   ]
  },
  {
   "cell_type": "code",
   "execution_count": 57,
   "metadata": {
    "collapsed": false
   },
   "outputs": [
    {
     "data": {
      "text/plain": [
       "1729"
      ]
     },
     "execution_count": 57,
     "metadata": {},
     "output_type": "execute_result"
    }
   ],
   "source": [
    "len(zero_genes)"
   ]
  },
  {
   "cell_type": "code",
   "execution_count": null,
   "metadata": {
    "collapsed": true
   },
   "outputs": [],
   "source": []
  }
 ],
 "metadata": {
  "kernelspec": {
   "display_name": "Python 2",
   "language": "python",
   "name": "python2"
  },
  "language_info": {
   "codemirror_mode": {
    "name": "ipython",
    "version": 2
   },
   "file_extension": ".py",
   "mimetype": "text/x-python",
   "name": "python",
   "nbconvert_exporter": "python",
   "pygments_lexer": "ipython2",
   "version": "2.7.6"
  }
 },
 "nbformat": 4,
 "nbformat_minor": 0
}
