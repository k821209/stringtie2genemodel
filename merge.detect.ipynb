{
 "cells": [
  {
   "cell_type": "code",
   "execution_count": 44,
   "metadata": {
    "collapsed": true
   },
   "outputs": [],
   "source": [
    "%matplotlib inline\n",
    "from __future__ import print_function\n",
    "import pandas as pd\n",
    "import sys\n",
    "sys.path.append('/ref/analysis/pipelines/')\n",
    "import kang\n",
    "from collections import Counter \n",
    "import numpy as np\n",
    "import matplotlib.pyplot as plt\n",
    "from tqdm import tqdm"
   ]
  },
  {
   "cell_type": "code",
   "execution_count": 7,
   "metadata": {
    "collapsed": true
   },
   "outputs": [],
   "source": [
    "def infoparse(x):\n",
    "    key   = [i.split('=')[0] for i in x.split(';')]\n",
    "    value = [i.split('=')[1] for i in x.split(';')]\n",
    "    return dict(zip(key,value))"
   ]
  },
  {
   "cell_type": "code",
   "execution_count": 2,
   "metadata": {
    "collapsed": true
   },
   "outputs": [],
   "source": [
    "file_refmap = '/ref/analysis/stringtie2genemodel.results/Cre/30kintron/Many_SRAs/predicted/cuffcmp.my_csv.csv.addgene.gff3.sort.gff3.refmap'\n",
    "file_tmap   = '/ref/analysis/stringtie2genemodel.results/Cre/30kintron/Many_SRAs/predicted/cuffcmp.my_csv.csv.addgene.gff3.sort.gff3.tmap'\n",
    "file_fa     = '/ref/analysis/References/Creinhardtii/annotation/Creinhardtii_281_v5.5.cds.fa'\n",
    "file_pep    = '/ref/analysis/stringtie2genemodel.results/Cre/30kintron/Many_SRAs/finalout/my_csv.csv.addgene.gff3.sort.gff3.pep.fa'\n",
    "file_cds    = '/ref/analysis/stringtie2genemodel.results/Cre/30kintron/Many_SRAs/finalout/my_csv.csv.addgene.gff3.sort.gff3.cds.fa'\n",
    "file_tgff   = '/ref/analysis/stringtie2genemodel.results/Cre/30kintron/Many_SRAs/finalout/my_csv.csv.addgene.gff3.sort.gff3.merge.all.gff3.sort.gff3'\n",
    "file_rgff   = '/ref/analysis/References/Creinhardtii/annotation/Creinhardtii_281_v5.5.gene.fix.gff3'"
   ]
  },
  {
   "cell_type": "code",
   "execution_count": 10,
   "metadata": {
    "collapsed": false
   },
   "outputs": [
    {
     "name": "stderr",
     "output_type": "stream",
     "text": [
      "/usr/local/lib/python2.7/dist-packages/ipykernel/__main__.py:4: SettingWithCopyWarning: \n",
      "A value is trying to be set on a copy of a slice from a DataFrame.\n",
      "Try using .loc[row_indexer,col_indexer] = value instead\n",
      "\n",
      "See the caveats in the documentation: http://pandas.pydata.org/pandas-docs/stable/indexing.html#indexing-view-versus-copy\n",
      "/usr/local/lib/python2.7/dist-packages/ipykernel/__main__.py:10: SettingWithCopyWarning: \n",
      "A value is trying to be set on a copy of a slice from a DataFrame.\n",
      "Try using .loc[row_indexer,col_indexer] = value instead\n",
      "\n",
      "See the caveats in the documentation: http://pandas.pydata.org/pandas-docs/stable/indexing.html#indexing-view-versus-copy\n",
      "/usr/local/lib/python2.7/dist-packages/ipykernel/__main__.py:16: SettingWithCopyWarning: \n",
      "A value is trying to be set on a copy of a slice from a DataFrame.\n",
      "Try using .loc[row_indexer,col_indexer] = value instead\n",
      "\n",
      "See the caveats in the documentation: http://pandas.pydata.org/pandas-docs/stable/indexing.html#indexing-view-versus-copy\n",
      "/usr/local/lib/python2.7/dist-packages/ipykernel/__main__.py:22: SettingWithCopyWarning: \n",
      "A value is trying to be set on a copy of a slice from a DataFrame.\n",
      "Try using .loc[row_indexer,col_indexer] = value instead\n",
      "\n",
      "See the caveats in the documentation: http://pandas.pydata.org/pandas-docs/stable/indexing.html#indexing-view-versus-copy\n"
     ]
    }
   ],
   "source": [
    "df_rgff      = pd.read_csv(file_rgff,sep='\\t',comment='#',header=None)\n",
    "mask         = (df_rgff[2] == 'mRNA')\n",
    "df_rgff_mRNA = df_rgff[mask]\n",
    "df_rgff_mRNA['ID'] = df_rgff_mRNA[8].apply(lambda x: infoparse(x)['ID'])\n",
    "df_rgff_mRNA_ix = df_rgff_mRNA.set_index('ID')\n",
    "\n",
    "df_tgff      = pd.read_csv(file_tgff,sep='\\t',comment='#',header=None)\n",
    "mask         = (df_tgff[2] == 'mRNA')\n",
    "df_tgff_mRNA = df_tgff[mask]\n",
    "df_tgff_mRNA['ID'] = df_tgff_mRNA[8].apply(lambda x: infoparse(x)['ID'])\n",
    "df_tgff_mRNA_ix = df_tgff_mRNA.set_index('ID')\n",
    "\n",
    "df_rgff      = pd.read_csv(file_rgff,sep='\\t',comment='#',header=None)\n",
    "mask         = (df_rgff[2] == 'CDS')\n",
    "df_rgff_CDS = df_rgff[mask]\n",
    "df_rgff_CDS['Parent'] = df_rgff_CDS[8].apply(lambda x: infoparse(x)['Parent'])\n",
    "df_rgff_CDS_ix = df_rgff_CDS.set_index('Parent')\n",
    "\n",
    "df_tgff      = pd.read_csv(file_tgff,sep='\\t',comment='#',header=None)\n",
    "mask         = (df_tgff[2] == 'CDS')\n",
    "df_tgff_CDS = df_tgff[mask]\n",
    "df_tgff_CDS['Parent'] = df_tgff_CDS[8].apply(lambda x: infoparse(x)['Parent'])\n",
    "df_tgff_CDS_ix = df_tgff_CDS.set_index('Parent')"
   ]
  },
  {
   "cell_type": "code",
   "execution_count": 52,
   "metadata": {
    "collapsed": false
   },
   "outputs": [],
   "source": [
    "def get_posset(df):\n",
    "    if isinstance(df,pd.Series):\n",
    "        locs = set(np.arange(df[3],df[4]+1))\n",
    "    else:\n",
    "        locs = {0}\n",
    "        for x,y in df[[3,4]].values:\n",
    "            locs = locs | set(np.arange(x,y+1))\n",
    "    return locs - {0}"
   ]
  },
  {
   "cell_type": "code",
   "execution_count": 85,
   "metadata": {
    "collapsed": false
   },
   "outputs": [],
   "source": [
    "def matched_genes(chromosome, qpos):\n",
    "    mask            = (df_rgff_CDS[0] == chromosome) & (df_rgff_CDS[3] < max(qpos) + 100000) & (df_rgff_CDS[3] > min(qpos) - 100000) \n",
    "    df_rgff_CDS_sub = df_rgff_CDS[mask].set_index('Parent')\n",
    "    matched_transcripts = []\n",
    "    for ix in set(df_rgff_CDS_sub.index):\n",
    "        edf        = df_rgff_CDS_sub.loc[ix]\n",
    "        #chromosome = edf[0][0]\n",
    "        #t_start, t_end = np.min(edf[[3,4]].values), np.max(edf[[3,4]].values)\n",
    "        #if chromosome == tchr:\n",
    "        tpos = get_posset(edf)\n",
    "        if len(qpos & tpos) > 100 :\n",
    "            matched_transcripts.append(ix)\n",
    "    return matched_transcripts "
   ]
  },
  {
   "cell_type": "code",
   "execution_count": 86,
   "metadata": {
    "collapsed": false
   },
   "outputs": [
    {
     "name": "stderr",
     "output_type": "stream",
     "text": [
      "100%|██████████| 25064/25064 [35:01<00:00, 12.42it/s]\n"
     ]
    }
   ],
   "source": [
    "dic = {'qname':[], \n",
    "       'merges':[]}\n",
    "tgff_posset = []\n",
    "ixs = list(set(df_tgff_CDS_ix.index))\n",
    "len_dist = []\n",
    "for ix in tqdm(ixs):\n",
    "    qpos = get_posset(df_tgff_CDS_ix.loc[ix])\n",
    "    chromosome  = df_tgff_CDS_ix.loc[ix][0][0]\n",
    "    matches     = matched_genes(chromosome,qpos)\n",
    "    matches_set = set(['.'.join(x.split('.')[0:2]) for x in matches])\n",
    "    if len(matches_set) > 1:\n",
    "        #print(ix, matches_set)\n",
    "        dic['qname'].append(ix)\n",
    "        dic['merges'].append(matches_set)\n",
    "        len_dist.append(len(matches_set))\n",
    "    "
   ]
  },
  {
   "cell_type": "code",
   "execution_count": 87,
   "metadata": {
    "collapsed": true
   },
   "outputs": [],
   "source": [
    "df_merge = pd.DataFrame(dic)"
   ]
  },
  {
   "cell_type": "code",
   "execution_count": 88,
   "metadata": {
    "collapsed": false
   },
   "outputs": [
    {
     "name": "stdout",
     "output_type": "stream",
     "text": [
      "number of predicted transcripts that merge reference transcripts: 545\n"
     ]
    }
   ],
   "source": [
    "print(\"number of predicted transcripts that merge reference transcripts:\",len(df_merge))"
   ]
  },
  {
   "cell_type": "code",
   "execution_count": 91,
   "metadata": {
    "collapsed": false
   },
   "outputs": [],
   "source": [
    "sumset = {0}\n",
    "for i in df_merge['merges']:\n",
    "    sumset = sumset | i"
   ]
  },
  {
   "cell_type": "code",
   "execution_count": 102,
   "metadata": {
    "collapsed": false
   },
   "outputs": [
    {
     "name": "stdout",
     "output_type": "stream",
     "text": [
      "number of reference trancripts that are merged by prediction 623\n"
     ]
    }
   ],
   "source": [
    "print(\"number of reference trancripts that are merged by prediction\",len(sumset - {0}))"
   ]
  },
  {
   "cell_type": "code",
   "execution_count": 98,
   "metadata": {
    "collapsed": false
   },
   "outputs": [],
   "source": [
    "df_merge['merged genes'] = df_merge['merges'].apply(lambda x : ','.join(x))"
   ]
  },
  {
   "cell_type": "code",
   "execution_count": 100,
   "metadata": {
    "collapsed": false
   },
   "outputs": [],
   "source": [
    "df_merge.to_csv('merged.cases.txt',sep='\\t')"
   ]
  },
  {
   "cell_type": "code",
   "execution_count": null,
   "metadata": {
    "collapsed": true
   },
   "outputs": [],
   "source": []
  }
 ],
 "metadata": {
  "kernelspec": {
   "display_name": "Python 2",
   "language": "python",
   "name": "python2"
  },
  "language_info": {
   "codemirror_mode": {
    "name": "ipython",
    "version": 2
   },
   "file_extension": ".py",
   "mimetype": "text/x-python",
   "name": "python",
   "nbconvert_exporter": "python",
   "pygments_lexer": "ipython2",
   "version": "2.7.6"
  }
 },
 "nbformat": 4,
 "nbformat_minor": 0
}
